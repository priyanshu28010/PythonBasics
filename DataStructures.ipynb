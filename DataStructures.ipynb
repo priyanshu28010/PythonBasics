{
  "nbformat": 4,
  "nbformat_minor": 0,
  "metadata": {
    "colab": {
      "provenance": []
    },
    "kernelspec": {
      "name": "python3",
      "display_name": "Python 3"
    },
    "language_info": {
      "name": "python"
    }
  },
  "cells": [
    {
      "cell_type": "markdown",
      "source": [
        "Data Types and Structures Questions\n"
      ],
      "metadata": {
        "id": "CWzCtBbrrgJF"
      }
    },
    {
      "cell_type": "markdown",
      "source": [
        "1. What are data structures, and why are they important?\n",
        "  - Data structures are ways of organizing and storing data in a computer. They are important because they make data access, processing, and management efficient.\n",
        "\n",
        "2.  Explain the difference between mutable and immutable data types with examples\n",
        "- Mutable data types can be changed after creation (e.g., lists, dictionaries), while immutable data types cannot be changed once created (e.g., strings, tuples).\n",
        "\n",
        "3. What are the main differences between lists and tuples in Python?\n",
        "- Lists are **mutable, slower, and use square brackets \\[ ]**, while tuples are **immutable, faster, and use parentheses ( )**.\n",
        "\n",
        "4.  Describe how dictionaries store data\n",
        "- Dictionaries store data as **key–value pairs**, where each unique key maps directly to its corresponding value for fast lookup.\n",
        "\n",
        "5. Why might you use a set instead of a list in Python\n",
        "- You might use a set instead of a list when you need **unique elements** and **fast membership checking**.\n",
        "\n",
        "6. What is a string in Python, and how is it different from a list\n",
        "- A string is a sequence of characters enclosed in quotes, while a list is a collection of elements (which can be of different types) enclosed in square brackets.\n",
        "\n",
        "7. P How do tuples ensure data integrity in Python\n",
        "- Tuples ensure data integrity by being immutable, meaning their values cannot be changed once created.\n",
        "\n",
        "8. What is a hash table, and how does it relate to dictionaries in Python\n",
        "- A hash table is a **data structure that stores data using key–value pairs with fast lookups**. In Python, dictionaries are implemented using hash tables.\n",
        "\n",
        "9. Can lists contain different data types in Python?\n",
        "- Yes, lists in Python can contain **different data types** like integers, strings, and floats all in one list.\n",
        "\n",
        "10. Explain why strings are immutable in Python\n",
        "- Strings are immutable in Python to **ensure data safety, memory efficiency, and consistent behavior** when used across programs.\n",
        "\n",
        "11. What advantages do dictionaries offer over lists for certain tasks\n",
        "- Dictionaries offer **faster lookups and direct access using keys**, while lists require searching through elements one by one.\n",
        "\n",
        "12.  Describe a scenario where using a tuple would be preferable over a list\n",
        "- A tuple is preferable when you need to **store fixed data that should not change**, like the coordinates of a point `(x, y)` or days of the week.\n",
        "\n",
        "13.  How do sets handle duplicate values in Python?\n",
        "- Sets in Python **automatically remove duplicate values**, so each element is stored only once.\n",
        "\n",
        "14.  How does the “in” keyword work differently for lists and dictionaries\n",
        "- For lists, the `in` keyword **checks if a value exists** in the list, while for dictionaries it **checks if a key exists**.\n",
        "\n",
        "15. Can you modify the elements of a tuple? Explain why or why not\n",
        "- No, you cannot modify the elements of a tuple because **tuples are immutable**, meaning their values are fixed once created.\n",
        "\n",
        "16. What is a nested dictionary, and give an example of its use case?\n",
        "- A nested dictionary is a **dictionary inside another dictionary**, useful for storing complex data like student records.\n",
        "\n",
        "Example:\n",
        "\n",
        "```python\n",
        "student = {\"name\": \"Amit\", \"marks\": {\"math\": 90, \"science\": 85}}\n",
        "```\n",
        "\n",
        "17. Describe the time complexity of accessing elements in a dictionary\n",
        "- Accessing elements in a dictionary has average time complexity O(1) because it uses hashing, though in rare cases it can be O(n).\n",
        "\n",
        "18.  In what situations are lists preferred over dictionaries\n",
        "-Lists are preferred over dictionaries when you need **ordered data, duplicates, or simple sequential access by index**.\n",
        "\n",
        "19. Why are dictionaries considered unordered, and how does that affect data retrieval?\n",
        "- Dictionaries are considered unordered because **their elements are stored by hash values, not positions**. This means you retrieve values using keys, not by index.\n",
        "\n",
        "20.  Explain the difference between a list and a dictionary in terms of data retrieval\n",
        "- In a list, data is retrieved **by index number**, while in a dictionary, data is retrieved **using a unique key**.\n"
      ],
      "metadata": {
        "id": "W_jRkzG3rk8D"
      }
    },
    {
      "cell_type": "markdown",
      "source": [
        "Practical Questions"
      ],
      "metadata": {
        "id": "G5MyDGvhvl6Q"
      }
    },
    {
      "cell_type": "code",
      "source": [
        "# 1. Write a code to create a string with your name and print it\n",
        "\n",
        "name = \"Priyanshu\"\n",
        "print(name)\n"
      ],
      "metadata": {
        "id": "rblRjjxQvzGo",
        "colab": {
          "base_uri": "https://localhost:8080/"
        },
        "outputId": "100363ac-1ac8-416c-ee88-b18c5e8c07e4"
      },
      "execution_count": 31,
      "outputs": [
        {
          "output_type": "stream",
          "name": "stdout",
          "text": [
            "Priyanshu\n"
          ]
        }
      ]
    },
    {
      "cell_type": "code",
      "source": [
        "# 2. Write a code to find the length of the string \"Hello World\"\n",
        "\n",
        "text = \"Hello World\"\n",
        "print(\"Length of string:\", len(text))\n"
      ],
      "metadata": {
        "id": "mu_tSAnkwIVm",
        "colab": {
          "base_uri": "https://localhost:8080/"
        },
        "outputId": "8b61c77f-0c2a-4a50-c2f3-c65e2bc36559"
      },
      "execution_count": 30,
      "outputs": [
        {
          "output_type": "stream",
          "name": "stdout",
          "text": [
            "Length of string: 11\n"
          ]
        }
      ]
    },
    {
      "cell_type": "code",
      "source": [
        "# 3. Write a code to slice the first 3 characters from the string \"Python Programming\"\n",
        "\n",
        "text = \"Python Programming\"\n",
        "print(text[:3])\n"
      ],
      "metadata": {
        "id": "NXkoVLRuwVqu",
        "colab": {
          "base_uri": "https://localhost:8080/"
        },
        "outputId": "15196f3f-d660-47fb-f36c-e0b6b972c941"
      },
      "execution_count": 29,
      "outputs": [
        {
          "output_type": "stream",
          "name": "stdout",
          "text": [
            "Pyt\n"
          ]
        }
      ]
    },
    {
      "cell_type": "code",
      "source": [
        "# 4. Write a code to convert the string \"hello\" to uppercase\n",
        "\n",
        "text = \"hello\"\n",
        "print(text.upper())\n"
      ],
      "metadata": {
        "id": "VKh0ScoBwg2_",
        "colab": {
          "base_uri": "https://localhost:8080/"
        },
        "outputId": "227241bc-7d2b-43d5-c0bb-40c1d3b5f90b"
      },
      "execution_count": 28,
      "outputs": [
        {
          "output_type": "stream",
          "name": "stdout",
          "text": [
            "HELLO\n"
          ]
        }
      ]
    },
    {
      "cell_type": "code",
      "source": [
        "# 5. Write a code to replace the word \"apple\" with \"orange\" in the string \"I like apple\"\n",
        "\n",
        "text = \"I like apple\"\n",
        "print(text.replace(\"apple\", \"orange\"))\n"
      ],
      "metadata": {
        "id": "KoO1dDBvwuPF",
        "colab": {
          "base_uri": "https://localhost:8080/"
        },
        "outputId": "57936c06-7042-413c-e6c5-cdfdca50c12e"
      },
      "execution_count": 27,
      "outputs": [
        {
          "output_type": "stream",
          "name": "stdout",
          "text": [
            "I like orange\n"
          ]
        }
      ]
    },
    {
      "cell_type": "code",
      "source": [
        "# 6. Write a code to create a list with numbers 1 to 5 and print it\n",
        "\n",
        "numbers = [1, 2, 3, 4, 5]\n",
        "print(numbers)\n"
      ],
      "metadata": {
        "id": "U-vf92ZNw97F",
        "colab": {
          "base_uri": "https://localhost:8080/"
        },
        "outputId": "cc2b2798-8ea8-4ffe-a5ad-177a82deddbd"
      },
      "execution_count": 26,
      "outputs": [
        {
          "output_type": "stream",
          "name": "stdout",
          "text": [
            "[1, 2, 3, 4, 5]\n"
          ]
        }
      ]
    },
    {
      "cell_type": "code",
      "source": [
        "# 7.  Write a code to append the number 10 to the list [1, 2, 3, 4]\n",
        "\n",
        "numbers = [1, 2, 3, 4]\n",
        "numbers.append(10)\n",
        "print(numbers)\n"
      ],
      "metadata": {
        "id": "zcLjShxFxKA-",
        "colab": {
          "base_uri": "https://localhost:8080/"
        },
        "outputId": "6c5e04bf-bd51-4f73-ad02-31ebb57501be"
      },
      "execution_count": 25,
      "outputs": [
        {
          "output_type": "stream",
          "name": "stdout",
          "text": [
            "[1, 2, 3, 4, 10]\n"
          ]
        }
      ]
    },
    {
      "cell_type": "code",
      "source": [
        "# 8. Write a code to remove the number 3 from the list [1, 2, 3, 4, 5]\n",
        "\n",
        "numbers = [1, 2, 3, 4, 5]\n",
        "numbers.remove(3)\n",
        "print(numbers)\n"
      ],
      "metadata": {
        "id": "0eYXlt3QxUJc",
        "colab": {
          "base_uri": "https://localhost:8080/"
        },
        "outputId": "288a4170-d70f-4b8e-a99e-90f6b225b8d8"
      },
      "execution_count": 24,
      "outputs": [
        {
          "output_type": "stream",
          "name": "stdout",
          "text": [
            "[1, 2, 4, 5]\n"
          ]
        }
      ]
    },
    {
      "cell_type": "code",
      "source": [
        "# 9. Write a code to access the second element in the list ['a', 'b', 'c', 'd']\n",
        "\n",
        "letters = ['a', 'b', 'c', 'd']\n",
        "print(letters[1])\n"
      ],
      "metadata": {
        "id": "6P_x6w1Rxlld",
        "colab": {
          "base_uri": "https://localhost:8080/"
        },
        "outputId": "a3a3e0a2-340a-4840-98fe-c502d0cb8eb4"
      },
      "execution_count": 23,
      "outputs": [
        {
          "output_type": "stream",
          "name": "stdout",
          "text": [
            "b\n"
          ]
        }
      ]
    },
    {
      "cell_type": "code",
      "source": [
        "# 10. Write a code to reverse the list [10, 20, 30, 40, 50]\n",
        "\n",
        "numbers = [10, 20, 30, 40, 50]\n",
        "numbers.reverse()\n",
        "print(numbers)\n"
      ],
      "metadata": {
        "id": "gEJpLuBPxwbM",
        "colab": {
          "base_uri": "https://localhost:8080/"
        },
        "outputId": "21799f91-7db2-494f-d206-ac478b6b19bf"
      },
      "execution_count": 22,
      "outputs": [
        {
          "output_type": "stream",
          "name": "stdout",
          "text": [
            "[50, 40, 30, 20, 10]\n"
          ]
        }
      ]
    },
    {
      "cell_type": "code",
      "source": [
        "# 11. Write a code to create a tuple with the elements 100, 200, 300 and print it\n",
        "\n",
        "my_tuple = (100, 200, 300)\n",
        "print(my_tuple)\n"
      ],
      "metadata": {
        "id": "mS4FAzxjyJXE",
        "colab": {
          "base_uri": "https://localhost:8080/"
        },
        "outputId": "236a18f9-7a54-4c8e-f5c4-1591714ed04b"
      },
      "execution_count": 21,
      "outputs": [
        {
          "output_type": "stream",
          "name": "stdout",
          "text": [
            "(100, 200, 300)\n"
          ]
        }
      ]
    },
    {
      "cell_type": "code",
      "source": [
        "# 12. Write a code to access the second-to-last element of the tuple ('red', 'green', 'blue', 'yellow')\n",
        "\n",
        "colors = ('red', 'green', 'blue', 'yellow')\n",
        "print(colors[-2])\n"
      ],
      "metadata": {
        "id": "edEb9ezQyUJT",
        "colab": {
          "base_uri": "https://localhost:8080/"
        },
        "outputId": "846d3430-feb7-43ed-d44c-31c667746d5f"
      },
      "execution_count": 20,
      "outputs": [
        {
          "output_type": "stream",
          "name": "stdout",
          "text": [
            "blue\n"
          ]
        }
      ]
    },
    {
      "cell_type": "code",
      "source": [
        "# 13. Write a code to find the minimum number in the tuple (10, 20, 5, 15)\n",
        "\n",
        "numbers = (10, 20, 5, 15)\n",
        "print(min(numbers))\n"
      ],
      "metadata": {
        "id": "Mtq9QR-KyiwM",
        "colab": {
          "base_uri": "https://localhost:8080/"
        },
        "outputId": "154eba2d-f3ac-4e48-eae4-6471bb2aca63"
      },
      "execution_count": 19,
      "outputs": [
        {
          "output_type": "stream",
          "name": "stdout",
          "text": [
            "5\n"
          ]
        }
      ]
    },
    {
      "cell_type": "code",
      "source": [
        "# 14. Write a code to find the index of the element \"cat\" in the tuple ('dog', 'cat', 'rabbit')\n",
        "\n",
        "animals = ('dog', 'cat', 'rabbit')\n",
        "print(animals.index(\"cat\"))\n"
      ],
      "metadata": {
        "id": "pm3HIlpIyu4b",
        "colab": {
          "base_uri": "https://localhost:8080/"
        },
        "outputId": "b2076936-1511-47c8-f758-d8ca1bd4cd54"
      },
      "execution_count": 18,
      "outputs": [
        {
          "output_type": "stream",
          "name": "stdout",
          "text": [
            "1\n"
          ]
        }
      ]
    },
    {
      "cell_type": "code",
      "source": [
        "# 15. Write a code to create a tuple containing three different fruits and check if \"kiwi\" is in it\n",
        "\n",
        "fruits = (\"apple\", \"banana\", \"mango\")\n",
        "print(\"kiwi\" in fruits)\n"
      ],
      "metadata": {
        "id": "R0nC9OSvy-GX",
        "colab": {
          "base_uri": "https://localhost:8080/"
        },
        "outputId": "a9566356-5c87-4410-8ee1-aeb75bb2b603"
      },
      "execution_count": 17,
      "outputs": [
        {
          "output_type": "stream",
          "name": "stdout",
          "text": [
            "False\n"
          ]
        }
      ]
    },
    {
      "cell_type": "code",
      "source": [
        "# 16. Write a code to create a set with the elements 'a', 'b', 'c' and print it\n",
        "\n",
        "my_set = {'a', 'b', 'c'}\n",
        "print(my_set)\n"
      ],
      "metadata": {
        "id": "VkYrNmzWzJSD",
        "colab": {
          "base_uri": "https://localhost:8080/"
        },
        "outputId": "40ed1e69-5252-4173-c932-01c37a6e63d8"
      },
      "execution_count": 16,
      "outputs": [
        {
          "output_type": "stream",
          "name": "stdout",
          "text": [
            "{'c', 'a', 'b'}\n"
          ]
        }
      ]
    },
    {
      "cell_type": "code",
      "source": [
        "# 17. Write a code to clear all elements from the set {1, 2, 3, 4, 5}\n",
        "\n",
        "numbers = {1, 2, 3, 4, 5}\n",
        "numbers.clear()\n",
        "print(numbers)\n"
      ],
      "metadata": {
        "id": "ay7JIDzezYcC",
        "colab": {
          "base_uri": "https://localhost:8080/"
        },
        "outputId": "899f4339-bf8c-40c6-d2c9-f56482469198"
      },
      "execution_count": 15,
      "outputs": [
        {
          "output_type": "stream",
          "name": "stdout",
          "text": [
            "set()\n"
          ]
        }
      ]
    },
    {
      "cell_type": "code",
      "source": [
        "# 18. Write a code to remove the element 4 from the set {1, 2, 3, 4}\n",
        "\n",
        "numbers = {1, 2, 3, 4}\n",
        "numbers.remove(4)\n",
        "print(numbers)\n"
      ],
      "metadata": {
        "id": "j8NZY7w6zflb",
        "colab": {
          "base_uri": "https://localhost:8080/"
        },
        "outputId": "782d3989-19e4-46db-cb02-146d2f056bec"
      },
      "execution_count": 14,
      "outputs": [
        {
          "output_type": "stream",
          "name": "stdout",
          "text": [
            "{1, 2, 3}\n"
          ]
        }
      ]
    },
    {
      "cell_type": "code",
      "source": [
        "# 19. Write a code to find the union of two sets {1, 2, 3} and {3, 4, 5}\n",
        "\n",
        "set1 = {1, 2, 3}\n",
        "set2 = {3, 4, 5}\n",
        "print(set1.union(set2))\n"
      ],
      "metadata": {
        "id": "Ehua89p_zqDb",
        "colab": {
          "base_uri": "https://localhost:8080/"
        },
        "outputId": "490e68a0-9b0f-4849-a841-c070da01cfdb"
      },
      "execution_count": 13,
      "outputs": [
        {
          "output_type": "stream",
          "name": "stdout",
          "text": [
            "{1, 2, 3, 4, 5}\n"
          ]
        }
      ]
    },
    {
      "cell_type": "code",
      "source": [
        "# 20. Write a code to find the intersection of two sets {1, 2, 3} and {2, 3, 4}\n",
        "\n",
        "set1 = {1, 2, 3}\n",
        "set2 = {2, 3, 4}\n",
        "print(set1.intersection(set2))\n"
      ],
      "metadata": {
        "id": "NutKhcVxz1qL",
        "colab": {
          "base_uri": "https://localhost:8080/"
        },
        "outputId": "1638c484-b638-4fd1-a5dc-7eb9fce37779"
      },
      "execution_count": 12,
      "outputs": [
        {
          "output_type": "stream",
          "name": "stdout",
          "text": [
            "{2, 3}\n"
          ]
        }
      ]
    },
    {
      "cell_type": "code",
      "source": [
        "# 21. Write a code to create a dictionary with the keys \"name\", \"age\", and \"city\", and print it\n",
        "\n",
        "person = {\"name\": \"Amit\", \"age\": 20, \"city\": \"Delhi\"}\n",
        "print(person)\n"
      ],
      "metadata": {
        "id": "zfMUEO_t0C8j",
        "colab": {
          "base_uri": "https://localhost:8080/"
        },
        "outputId": "436cd0b2-ec07-4a92-a6f1-81e6d6485796"
      },
      "execution_count": 11,
      "outputs": [
        {
          "output_type": "stream",
          "name": "stdout",
          "text": [
            "{'name': 'Amit', 'age': 20, 'city': 'Delhi'}\n"
          ]
        }
      ]
    },
    {
      "cell_type": "code",
      "source": [
        "# 22. Write a code to add a new key-value pair \"country\": \"USA\" to the dictionary {'name': 'John', 'age': 25}\n",
        "\n",
        "person = {'name': 'John', 'age': 25}\n",
        "person['country'] = 'USA'\n",
        "print(person)\n"
      ],
      "metadata": {
        "id": "brNxfepa0VKa",
        "colab": {
          "base_uri": "https://localhost:8080/"
        },
        "outputId": "4917dbc0-7be1-412d-fbcc-1823286c5bec"
      },
      "execution_count": 10,
      "outputs": [
        {
          "output_type": "stream",
          "name": "stdout",
          "text": [
            "{'name': 'John', 'age': 25, 'country': 'USA'}\n"
          ]
        }
      ]
    },
    {
      "cell_type": "code",
      "source": [
        "# 23. Write a code to access the value associated with the key \"name\" in the dictionary {'name': 'Alice', 'age': 30}\n",
        "\n",
        "person = {'name': 'Alice', 'age': 30}\n",
        "print(person['name'])\n"
      ],
      "metadata": {
        "id": "baEZr78b0qWJ",
        "colab": {
          "base_uri": "https://localhost:8080/"
        },
        "outputId": "423c4292-8fe1-44f0-9296-e875ef60d31a"
      },
      "execution_count": 9,
      "outputs": [
        {
          "output_type": "stream",
          "name": "stdout",
          "text": [
            "Alice\n"
          ]
        }
      ]
    },
    {
      "cell_type": "code",
      "source": [
        "#24. Write a code to remove the key \"age\" from the dictionary {'name': 'Bob', 'age': 22, 'city': 'New York'}\n",
        "\n",
        "person = {'name': 'Bob', 'age': 22, 'city': 'New York'}\n",
        "del person['age']\n",
        "print(person)\n"
      ],
      "metadata": {
        "id": "RvJVF5f201fZ",
        "colab": {
          "base_uri": "https://localhost:8080/"
        },
        "outputId": "f0c8a497-bfba-4247-af15-f69cb2ae3913"
      },
      "execution_count": 8,
      "outputs": [
        {
          "output_type": "stream",
          "name": "stdout",
          "text": [
            "{'name': 'Bob', 'city': 'New York'}\n"
          ]
        }
      ]
    },
    {
      "cell_type": "code",
      "source": [
        "# 25. Write a code to check if the key \"city\" exists in the dictionary {'name': 'Alice', 'city': 'Paris'}\n",
        "person = {'name': 'Alice', 'city': 'Paris'}\n",
        "print(\"city\" in person)\n"
      ],
      "metadata": {
        "id": "at-NKxnL1BWR",
        "colab": {
          "base_uri": "https://localhost:8080/"
        },
        "outputId": "56ac66c8-9fd0-4413-e36a-3b430b8baa30"
      },
      "execution_count": 7,
      "outputs": [
        {
          "output_type": "stream",
          "name": "stdout",
          "text": [
            "True\n"
          ]
        }
      ]
    },
    {
      "cell_type": "code",
      "source": [
        "# 26. Write a code to create a list, a tuple, and a dictionary, and print them all\n",
        "\n",
        "my_list = [1, 2, 3]\n",
        "my_tuple = (4, 5, 6)\n",
        "my_dict = {\"a\": 10, \"b\": 20}\n",
        "\n",
        "print(\"List:\", my_list)\n",
        "print(\"Tuple:\", my_tuple)\n",
        "print(\"Dictionary:\", my_dict)\n"
      ],
      "metadata": {
        "id": "P4oDK3wT1KgJ",
        "colab": {
          "base_uri": "https://localhost:8080/"
        },
        "outputId": "e069ab9c-e785-4f64-bda5-82cc9ac40f99"
      },
      "execution_count": 6,
      "outputs": [
        {
          "output_type": "stream",
          "name": "stdout",
          "text": [
            "List: [1, 2, 3]\n",
            "Tuple: (4, 5, 6)\n",
            "Dictionary: {'a': 10, 'b': 20}\n"
          ]
        }
      ]
    },
    {
      "cell_type": "code",
      "source": [
        "# 27.  Write a code to create a list of 5 random numbers between 1 and 100, sort it in ascending order, and print the result.(replaced)\n",
        "\n",
        "import random\n",
        "\n",
        "numbers = random.sample(range(1, 101), 5)\n",
        "numbers.sort()\n",
        "print(\"Sorted list:\", numbers)"
      ],
      "metadata": {
        "id": "pvs_y7Nc2Q4B",
        "colab": {
          "base_uri": "https://localhost:8080/"
        },
        "outputId": "55929f16-86aa-405b-f50b-fa1eb425a87e"
      },
      "execution_count": 5,
      "outputs": [
        {
          "output_type": "stream",
          "name": "stdout",
          "text": [
            "Sorted list: [4, 10, 17, 60, 85]\n"
          ]
        }
      ]
    },
    {
      "cell_type": "code",
      "source": [
        "# 28. Write a code to create a list with strings and print the element at the third index\n",
        "\n",
        "words = [\"apple\", \"banana\", \"cherry\", \"date\", \"mango\"]\n",
        "print(words[3])\n"
      ],
      "metadata": {
        "id": "HcEHCqbO2Ru5",
        "colab": {
          "base_uri": "https://localhost:8080/"
        },
        "outputId": "d52c20e8-4a17-4a9f-dac6-8aab2377c875"
      },
      "execution_count": 4,
      "outputs": [
        {
          "output_type": "stream",
          "name": "stdout",
          "text": [
            "date\n"
          ]
        }
      ]
    },
    {
      "cell_type": "code",
      "source": [
        "# 29. Write a code to combine two dictionaries into one and print the result\n",
        "\n",
        "dict1 = {\"a\": 1, \"b\": 2}\n",
        "dict2 = {\"c\": 3, \"d\": 4}\n",
        "\n",
        "combined = {**dict1, **dict2}\n",
        "print(combined)\n"
      ],
      "metadata": {
        "id": "8wNWjEYE2m1Q",
        "colab": {
          "base_uri": "https://localhost:8080/"
        },
        "outputId": "34a643de-3afd-4d90-aeae-c5a04c4b3a2d"
      },
      "execution_count": 2,
      "outputs": [
        {
          "output_type": "stream",
          "name": "stdout",
          "text": [
            "{'a': 1, 'b': 2, 'c': 3, 'd': 4}\n"
          ]
        }
      ]
    },
    {
      "cell_type": "code",
      "source": [
        "# 30. Write a code to convert a list of strings into a set\n",
        "\n",
        "words = [\"apple\", \"banana\", \"cherry\", \"apple\"]\n",
        "words_set = set(words)\n",
        "print(words_set)\n"
      ],
      "metadata": {
        "id": "UjiGeoH22yP_",
        "colab": {
          "base_uri": "https://localhost:8080/"
        },
        "outputId": "bde8228b-e473-4bbb-ca49-61763dc794dc"
      },
      "execution_count": 3,
      "outputs": [
        {
          "output_type": "stream",
          "name": "stdout",
          "text": [
            "{'cherry', 'apple', 'banana'}\n"
          ]
        }
      ]
    }
  ]
}