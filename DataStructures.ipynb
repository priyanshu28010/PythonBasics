{
  "nbformat": 4,
  "nbformat_minor": 0,
  "metadata": {
    "colab": {
      "provenance": []
    },
    "kernelspec": {
      "name": "python3",
      "display_name": "Python 3"
    },
    "language_info": {
      "name": "python"
    }
  },
  "cells": [
    {
      "cell_type": "markdown",
      "source": [
        "Data Types and Structures Questions\n"
      ],
      "metadata": {
        "id": "CWzCtBbrrgJF"
      }
    },
    {
      "cell_type": "markdown",
      "source": [
        "1. What are data structures, and why are they important?\n",
        "  - Data structures are ways of organizing and storing data in a computer. They are important because they make data access, processing, and management efficient.\n",
        "\n",
        "2.  Explain the difference between mutable and immutable data types with examples\n",
        "- Mutable data types can be changed after creation (e.g., lists, dictionaries), while immutable data types cannot be changed once created (e.g., strings, tuples).\n",
        "\n",
        "3. What are the main differences between lists and tuples in Python?\n",
        "- Lists are **mutable, slower, and use square brackets \\[ ]**, while tuples are **immutable, faster, and use parentheses ( )**.\n",
        "\n",
        "4.  Describe how dictionaries store data\n",
        "- Dictionaries store data as **key–value pairs**, where each unique key maps directly to its corresponding value for fast lookup.\n",
        "\n",
        "5. Why might you use a set instead of a list in Python\n",
        "- You might use a set instead of a list when you need **unique elements** and **fast membership checking**.\n",
        "\n",
        "6. What is a string in Python, and how is it different from a list\n",
        "- A string is a sequence of characters enclosed in quotes, while a list is a collection of elements (which can be of different types) enclosed in square brackets.\n",
        "\n",
        "7. P How do tuples ensure data integrity in Python\n",
        "- Tuples ensure data integrity by being immutable, meaning their values cannot be changed once created.\n",
        "\n",
        "8. What is a hash table, and how does it relate to dictionaries in Python\n",
        "- A hash table is a **data structure that stores data using key–value pairs with fast lookups**. In Python, dictionaries are implemented using hash tables.\n",
        "\n",
        "9. Can lists contain different data types in Python?\n",
        "- Yes, lists in Python can contain **different data types** like integers, strings, and floats all in one list.\n",
        "\n",
        "10. Explain why strings are immutable in Python\n",
        "- Strings are immutable in Python to **ensure data safety, memory efficiency, and consistent behavior** when used across programs.\n",
        "\n",
        "11. What advantages do dictionaries offer over lists for certain tasks\n",
        "- Dictionaries offer **faster lookups and direct access using keys**, while lists require searching through elements one by one.\n",
        "\n",
        "12.  Describe a scenario where using a tuple would be preferable over a list\n",
        "- A tuple is preferable when you need to **store fixed data that should not change**, like the coordinates of a point `(x, y)` or days of the week.\n",
        "\n",
        "13.  How do sets handle duplicate values in Python?\n",
        "- Sets in Python **automatically remove duplicate values**, so each element is stored only once.\n",
        "\n",
        "14.  How does the “in” keyword work differently for lists and dictionaries\n",
        "- For lists, the `in` keyword **checks if a value exists** in the list, while for dictionaries it **checks if a key exists**.\n",
        "\n",
        "15. Can you modify the elements of a tuple? Explain why or why not\n",
        "- No, you cannot modify the elements of a tuple because **tuples are immutable**, meaning their values are fixed once created.\n",
        "\n",
        "16. What is a nested dictionary, and give an example of its use case?\n",
        "- A nested dictionary is a **dictionary inside another dictionary**, useful for storing complex data like student records.\n",
        "\n",
        "Example:\n",
        "\n",
        "```python\n",
        "student = {\"name\": \"Amit\", \"marks\": {\"math\": 90, \"science\": 85}}\n",
        "```\n",
        "\n",
        "17. Describe the time complexity of accessing elements in a dictionary\n",
        "- Accessing elements in a dictionary has average time complexity O(1) because it uses hashing, though in rare cases it can be O(n).\n",
        "\n",
        "18.  In what situations are lists preferred over dictionaries\n",
        "-Lists are preferred over dictionaries when you need **ordered data, duplicates, or simple sequential access by index**.\n",
        "\n",
        "19. Why are dictionaries considered unordered, and how does that affect data retrieval?\n",
        "- Dictionaries are considered unordered because **their elements are stored by hash values, not positions**. This means you retrieve values using keys, not by index.\n",
        "\n",
        "20.  Explain the difference between a list and a dictionary in terms of data retrieval\n",
        "- In a list, data is retrieved **by index number**, while in a dictionary, data is retrieved **using a unique key**.\n"
      ],
      "metadata": {
        "id": "W_jRkzG3rk8D"
      }
    },
    {
      "cell_type": "markdown",
      "source": [
        "Practical Questions"
      ],
      "metadata": {
        "id": "G5MyDGvhvl6Q"
      }
    },
    {
      "cell_type": "code",
      "source": [
        "# 1. Write a code to create a string with your name and print it\n",
        "\n",
        "name = \"Priyanshu\"\n",
        "print(name)\n"
      ],
      "metadata": {
        "id": "rblRjjxQvzGo"
      },
      "execution_count": null,
      "outputs": []
    },
    {
      "cell_type": "code",
      "source": [
        "# 2. Write a code to find the length of the string \"Hello World\"\n",
        "\n",
        "text = \"Hello World\"\n",
        "print(\"Length of string:\", len(text))\n"
      ],
      "metadata": {
        "id": "mu_tSAnkwIVm"
      },
      "execution_count": null,
      "outputs": []
    },
    {
      "cell_type": "code",
      "source": [
        "# 3. Write a code to slice the first 3 characters from the string \"Python Programming\"\n",
        "\n",
        "text = \"Python Programming\"\n",
        "print(text[:3])\n"
      ],
      "metadata": {
        "id": "NXkoVLRuwVqu"
      },
      "execution_count": null,
      "outputs": []
    },
    {
      "cell_type": "code",
      "source": [
        "# 4. Write a code to convert the string \"hello\" to uppercase\n",
        "\n",
        "text = \"hello\"\n",
        "print(text.upper())\n"
      ],
      "metadata": {
        "id": "VKh0ScoBwg2_"
      },
      "execution_count": null,
      "outputs": []
    },
    {
      "cell_type": "code",
      "source": [
        "# 5. Write a code to replace the word \"apple\" with \"orange\" in the string \"I like apple\"\n",
        "\n",
        "text = \"I like apple\"\n",
        "print(text.replace(\"apple\", \"orange\"))\n"
      ],
      "metadata": {
        "id": "KoO1dDBvwuPF"
      },
      "execution_count": null,
      "outputs": []
    },
    {
      "cell_type": "code",
      "source": [
        "# 6. Write a code to create a list with numbers 1 to 5 and print it\n",
        "\n",
        "numbers = [1, 2, 3, 4, 5]\n",
        "print(numbers)\n"
      ],
      "metadata": {
        "id": "U-vf92ZNw97F"
      },
      "execution_count": null,
      "outputs": []
    },
    {
      "cell_type": "code",
      "source": [
        "# 7.  Write a code to append the number 10 to the list [1, 2, 3, 4]\n",
        "\n",
        "numbers = [1, 2, 3, 4]\n",
        "numbers.append(10)\n",
        "print(numbers)\n"
      ],
      "metadata": {
        "id": "zcLjShxFxKA-"
      },
      "execution_count": null,
      "outputs": []
    },
    {
      "cell_type": "code",
      "source": [
        "# 8. Write a code to remove the number 3 from the list [1, 2, 3, 4, 5]\n",
        "\n",
        "numbers = [1, 2, 3, 4, 5]\n",
        "numbers.remove(3)\n",
        "print(numbers)\n"
      ],
      "metadata": {
        "id": "0eYXlt3QxUJc"
      },
      "execution_count": null,
      "outputs": []
    },
    {
      "cell_type": "code",
      "source": [
        "# 9. Write a code to access the second element in the list ['a', 'b', 'c', 'd']\n",
        "\n",
        "letters = ['a', 'b', 'c', 'd']\n",
        "print(letters[1])\n"
      ],
      "metadata": {
        "id": "6P_x6w1Rxlld"
      },
      "execution_count": null,
      "outputs": []
    },
    {
      "cell_type": "code",
      "source": [
        "# 10. Write a code to reverse the list [10, 20, 30, 40, 50]\n",
        "\n",
        "numbers = [10, 20, 30, 40, 50]\n",
        "numbers.reverse()\n",
        "print(numbers)\n"
      ],
      "metadata": {
        "id": "gEJpLuBPxwbM"
      },
      "execution_count": null,
      "outputs": []
    },
    {
      "cell_type": "code",
      "source": [
        "# 11. Write a code to create a tuple with the elements 100, 200, 300 and print it\n",
        "\n",
        "my_tuple = (100, 200, 300)\n",
        "print(my_tuple)\n"
      ],
      "metadata": {
        "id": "mS4FAzxjyJXE"
      },
      "execution_count": null,
      "outputs": []
    },
    {
      "cell_type": "code",
      "source": [
        "# 12. Write a code to access the second-to-last element of the tuple ('red', 'green', 'blue', 'yellow')\n",
        "\n",
        "colors = ('red', 'green', 'blue', 'yellow')\n",
        "print(colors[-2])\n"
      ],
      "metadata": {
        "id": "edEb9ezQyUJT"
      },
      "execution_count": null,
      "outputs": []
    },
    {
      "cell_type": "code",
      "source": [
        "# 13. Write a code to find the minimum number in the tuple (10, 20, 5, 15)\n",
        "\n",
        "numbers = (10, 20, 5, 15)\n",
        "print(min(numbers))\n"
      ],
      "metadata": {
        "id": "Mtq9QR-KyiwM"
      },
      "execution_count": null,
      "outputs": []
    },
    {
      "cell_type": "code",
      "source": [
        "# 14. Write a code to find the index of the element \"cat\" in the tuple ('dog', 'cat', 'rabbit')\n",
        "\n",
        "animals = ('dog', 'cat', 'rabbit')\n",
        "print(animals.index(\"cat\"))\n"
      ],
      "metadata": {
        "id": "pm3HIlpIyu4b"
      },
      "execution_count": null,
      "outputs": []
    },
    {
      "cell_type": "code",
      "source": [
        "# 15. Write a code to create a tuple containing three different fruits and check if \"kiwi\" is in it\n",
        "\n",
        "fruits = (\"apple\", \"banana\", \"mango\")\n",
        "print(\"kiwi\" in fruits)\n"
      ],
      "metadata": {
        "id": "R0nC9OSvy-GX"
      },
      "execution_count": null,
      "outputs": []
    },
    {
      "cell_type": "code",
      "source": [
        "# 16. Write a code to create a set with the elements 'a', 'b', 'c' and print it\n",
        "\n",
        "my_set = {'a', 'b', 'c'}\n",
        "print(my_set)\n"
      ],
      "metadata": {
        "id": "VkYrNmzWzJSD"
      },
      "execution_count": null,
      "outputs": []
    },
    {
      "cell_type": "code",
      "source": [
        "# 17. Write a code to clear all elements from the set {1, 2, 3, 4, 5}\n",
        "\n",
        "numbers = {1, 2, 3, 4, 5}\n",
        "numbers.clear()\n",
        "print(numbers)\n"
      ],
      "metadata": {
        "id": "ay7JIDzezYcC"
      },
      "execution_count": null,
      "outputs": []
    },
    {
      "cell_type": "code",
      "source": [
        "# 18. Write a code to remove the element 4 from the set {1, 2, 3, 4}\n",
        "\n",
        "numbers = {1, 2, 3, 4}\n",
        "numbers.remove(4)\n",
        "print(numbers)\n"
      ],
      "metadata": {
        "id": "j8NZY7w6zflb"
      },
      "execution_count": null,
      "outputs": []
    },
    {
      "cell_type": "code",
      "source": [
        "# 19. Write a code to find the union of two sets {1, 2, 3} and {3, 4, 5}\n",
        "\n",
        "set1 = {1, 2, 3}\n",
        "set2 = {3, 4, 5}\n",
        "print(set1.union(set2))\n"
      ],
      "metadata": {
        "id": "Ehua89p_zqDb"
      },
      "execution_count": null,
      "outputs": []
    },
    {
      "cell_type": "code",
      "source": [
        "# 20. Write a code to find the intersection of two sets {1, 2, 3} and {2, 3, 4}\n",
        "\n",
        "set1 = {1, 2, 3}\n",
        "set2 = {2, 3, 4}\n",
        "print(set1.intersection(set2))\n"
      ],
      "metadata": {
        "id": "NutKhcVxz1qL"
      },
      "execution_count": null,
      "outputs": []
    },
    {
      "cell_type": "code",
      "source": [
        "# 21. Write a code to create a dictionary with the keys \"name\", \"age\", and \"city\", and print it\n",
        "\n",
        "person = {\"name\": \"Amit\", \"age\": 20, \"city\": \"Delhi\"}\n",
        "print(person)\n"
      ],
      "metadata": {
        "id": "zfMUEO_t0C8j"
      },
      "execution_count": null,
      "outputs": []
    },
    {
      "cell_type": "code",
      "source": [
        "# 22. Write a code to add a new key-value pair \"country\": \"USA\" to the dictionary {'name': 'John', 'age': 25}\n",
        "\n",
        "person = {'name': 'John', 'age': 25}\n",
        "person['country'] = 'USA'\n",
        "print(person)\n"
      ],
      "metadata": {
        "id": "brNxfepa0VKa"
      },
      "execution_count": null,
      "outputs": []
    },
    {
      "cell_type": "code",
      "source": [
        "# 23. Write a code to access the value associated with the key \"name\" in the dictionary {'name': 'Alice', 'age': 30}\n",
        "\n",
        "person = {'name': 'Alice', 'age': 30}\n",
        "print(person['name'])\n"
      ],
      "metadata": {
        "id": "baEZr78b0qWJ"
      },
      "execution_count": null,
      "outputs": []
    },
    {
      "cell_type": "code",
      "source": [
        "#24. Write a code to remove the key \"age\" from the dictionary {'name': 'Bob', 'age': 22, 'city': 'New York'}\n",
        "\n",
        "person = {'name': 'Bob', 'age': 22, 'city': 'New York'}\n",
        "del person['age']\n",
        "print(person)\n"
      ],
      "metadata": {
        "id": "RvJVF5f201fZ"
      },
      "execution_count": null,
      "outputs": []
    },
    {
      "cell_type": "code",
      "source": [
        "# 25. Write a code to check if the key \"city\" exists in the dictionary {'name': 'Alice', 'city': 'Paris'}\n",
        "person = {'name': 'Alice', 'city': 'Paris'}\n",
        "print(\"city\" in person)\n"
      ],
      "metadata": {
        "id": "at-NKxnL1BWR"
      },
      "execution_count": null,
      "outputs": []
    },
    {
      "cell_type": "code",
      "source": [
        "# 26. Write a code to create a list, a tuple, and a dictionary, and print them all\n",
        "\n",
        "my_list = [1, 2, 3]\n",
        "my_tuple = (4, 5, 6)\n",
        "my_dict = {\"a\": 10, \"b\": 20}\n",
        "\n",
        "print(\"List:\", my_list)\n",
        "print(\"Tuple:\", my_tuple)\n",
        "print(\"Dictionary:\", my_dict)\n"
      ],
      "metadata": {
        "id": "P4oDK3wT1KgJ"
      },
      "execution_count": null,
      "outputs": []
    },
    {
      "cell_type": "code",
      "source": [
        "# 27.  Write a code to create a list of 5 random numbers between 1 and 100, sort it in ascending order, and print the result.(replaced)\n",
        "\n",
        "import random\n",
        "\n",
        "numbers = random.sample(range(1, 101), 5)\n",
        "numbers.sort()\n",
        "print(\"Sorted list:\", numbers)"
      ],
      "metadata": {
        "id": "pvs_y7Nc2Q4B"
      },
      "execution_count": null,
      "outputs": []
    },
    {
      "cell_type": "code",
      "source": [
        "# 28. Write a code to create a list with strings and print the element at the third index\n",
        "\n",
        "words = [\"apple\", \"banana\", \"cherry\", \"date\", \"mango\"]\n",
        "print(words[3])\n"
      ],
      "metadata": {
        "id": "HcEHCqbO2Ru5"
      },
      "execution_count": null,
      "outputs": []
    },
    {
      "cell_type": "code",
      "source": [
        "# 29. Write a code to combine two dictionaries into one and print the result\n",
        "\n",
        "dict1 = {\"a\": 1, \"b\": 2}\n",
        "dict2 = {\"c\": 3, \"d\": 4}\n",
        "\n",
        "combined = {**dict1, **dict2}\n",
        "print(combined)\n"
      ],
      "metadata": {
        "id": "8wNWjEYE2m1Q"
      },
      "execution_count": null,
      "outputs": []
    },
    {
      "cell_type": "code",
      "source": [
        "# 30. Write a code to convert a list of strings into a set\n",
        "\n",
        "words = [\"apple\", \"banana\", \"cherry\", \"apple\"]\n",
        "words_set = set(words)\n",
        "print(words_set)\n"
      ],
      "metadata": {
        "id": "UjiGeoH22yP_"
      },
      "execution_count": null,
      "outputs": []
    }
  ]
}