{
  "nbformat": 4,
  "nbformat_minor": 0,
  "metadata": {
    "colab": {
      "provenance": []
    },
    "kernelspec": {
      "name": "python3",
      "display_name": "Python 3"
    },
    "language_info": {
      "name": "python"
    }
  },
  "cells": [
    {
      "cell_type": "markdown",
      "source": [
        "Python Basics Questions"
      ],
      "metadata": {
        "id": "pGTPugHsTF7J"
      }
    },
    {
      "cell_type": "markdown",
      "source": [
        "1. What is Python, and why is it popular?\n",
        "- Python is a high-level, easy-to-read programming language. It is popular because it is versatile and beginner-friendly.\n",
        "\n",
        "2. What is an interpreter in Python?\n",
        "- An interpreter in Python executes code line by line, making it easier to test and debug programs.\n",
        "\n",
        "3. What are pre-defined keywords in Python?\n",
        "- Pre-defined keywords in Python are reserved words with fixed meanings (like if, while, def) that can not be used as variable names.\n",
        "\n",
        "4. Can keywords be used as variable names?\n",
        "- No — keywords can not be used as variable names because they are reserved for specific functions in Python.\n",
        "\n",
        "5. What is mutability in Python?\n",
        "- Mutability in Python means an object’s value can be changed after creation (e.g., lists are mutable, but tuples are not).\n",
        "\n",
        "6. Why are lists mutable, but tuples are immutable?\n",
        "- Lists are mutable because their elements can be changed, added, or removed, while tuples are immutable because their elements are fixed once created.\n",
        "\n",
        "7. What is the difference between “==” and “is” operators in Python?\n",
        "- == checks if values are equal, while is checks if two objects point to the same memory location.\n",
        "\n",
        "8. What are logical operators in Python?\n",
        "- Logical operators in Python are and, or, and not, used to combine or modify conditions in expressions.\n",
        "\n",
        "9. What is type casting in Python?\n",
        "- Type casting in Python is converting one data type into another, like turning an integer into a float or string.\n",
        "\n",
        "10. What is the difference between implicit and explicit type casting?\n",
        "- Implicit type casting (type conversion) is done automatically by Python, while explicit type casting is done manually using functions like int(), float(), str().\n",
        "\n",
        "11. What is the purpose of conditional statements in Python?\n",
        "- Conditional statements in Python are used to make decisions and execute code only if a certain condition is true.\n",
        "\n",
        "12. How does the elif statement work?\n",
        "- The elif statement checks another condition if the previous if (or elif) was false, letting you test multiple conditions in order.\n",
        "\n",
        "13. What is the difference between for and while loops?\n",
        "- A for loop runs a fixed number of times (over a sequence), while a while loop runs until a condition becomes false.\n",
        "\n",
        "14. Describe a scenario where a while loop is more suitable than a for loop.\n",
        "- A while loop is better when you don not know the exact number of iterations, like repeatedly asking for a password until the correct one is entered.\n"
      ],
      "metadata": {
        "id": "FQOEmM5iTXY4"
      }
    },
    {
      "cell_type": "markdown",
      "source": [
        "Practical Questions"
      ],
      "metadata": {
        "id": "XzYmofsXatRp"
      }
    },
    {
      "cell_type": "code",
      "source": [
        "# Write a Python program to print \"Hello, World!y\"\n",
        "print(\"Hello, World!\")\n"
      ],
      "metadata": {
        "id": "tiMY43mMaxi5"
      },
      "execution_count": null,
      "outputs": []
    },
    {
      "cell_type": "code",
      "source": [
        "# Write a Python program that displays your name and age\n",
        "name = \"Priynshu Sondawale\"\n",
        "age = 23\n",
        "print(\"My name is\", name, \"and I am\", age, \"years old.\")\n"
      ],
      "metadata": {
        "id": "zFTYGZN4bacY"
      },
      "execution_count": null,
      "outputs": []
    },
    {
      "cell_type": "code",
      "source": [
        "# Write code to print all the pre-defined keywords in Python using the keyword library\n",
        "import keyword\n",
        "\n",
        "print(keyword.kwlist)\n"
      ],
      "metadata": {
        "id": "DnUR2j1ycC15"
      },
      "execution_count": null,
      "outputs": []
    },
    {
      "cell_type": "code",
      "source": [
        "# Write a program that checks if a given word is a Python keyword\n",
        "import keyword\n",
        "\n",
        "word = input(\"Enter a word: \")\n",
        "if keyword.iskeyword(word):\n",
        "    print(word, \"is a Python keyword.\")\n",
        "else:\n",
        "    print(word, \"is not a Python keyword.\")\n"
      ],
      "metadata": {
        "id": "5b_VdWMZcNyQ"
      },
      "execution_count": null,
      "outputs": []
    },
    {
      "cell_type": "code",
      "source": [
        "#Create a list and tuple in Python, and demonstrate how attempting to change an element works differently for each.\n",
        "\n",
        "# List (mutable)\n",
        "my_list = [1, 2, 3]\n",
        "my_list[0] = 10\n",
        "print(\"Updated list:\", my_list)\n",
        "\n",
        "# Tuple (immutable)\n",
        "my_tuple = (1, 2, 3)\n",
        "# Uncommenting the line below will give an error\n",
        "print(\"Tuple cannot be changed:\", my_tuple)\n"
      ],
      "metadata": {
        "id": "itoFC4Jrcc6H"
      },
      "execution_count": null,
      "outputs": []
    },
    {
      "cell_type": "code",
      "source": [
        "# Write a function to demonstrate the behavior of mutable and immutable arguments.\n",
        "\"\"\"\n",
        "    I don't think that they tought us about functions yet\n",
        "\"\"\""
      ],
      "metadata": {
        "id": "5NPDZkOPi0n4"
      },
      "execution_count": null,
      "outputs": []
    },
    {
      "cell_type": "code",
      "source": [
        "#  Write a program that performs basic arithmetic operations on two user-input numbers.\n",
        "\n",
        "\n",
        "a = int(input(\"Enter first number: \"))\n",
        "b = int(input(\"Enter second number: \"))\n",
        "\n",
        "print(\"Addition:\", a + b)\n",
        "print(\"Subtraction:\", a - b)\n",
        "print(\"Multiplication:\", a * b)\n",
        "print(\"Division:\", a / b)\n",
        "\n"
      ],
      "metadata": {
        "id": "20oloTeteHw-"
      },
      "execution_count": null,
      "outputs": []
    },
    {
      "cell_type": "code",
      "source": [
        "# Write a program to demonstrate the use of logical operators\n",
        "x = 10\n",
        "y = 5\n",
        "\n",
        "print(\"x > 5 and y > 5:\", x > 5 and y > 5)\n",
        "print(\"x > 5 or y > 5:\", x > 5 or y > 5)\n",
        "print(\"not(x > 5):\", not(x > 5))\n"
      ],
      "metadata": {
        "id": "KtGXNdsue0od"
      },
      "execution_count": null,
      "outputs": []
    },
    {
      "cell_type": "code",
      "source": [
        "# Write a Python program to convert user input from string to integer, float, and boolean types.\n",
        "\n",
        "value = input(\"Enter something: \")\n",
        "\n",
        "int_value = int(value)\n",
        "float_value = float(value)\n",
        "bool_value = bool(value)\n",
        "\n",
        "print(\"As Integer:\", int_value)\n",
        "print(\"As Float:\", float_value)\n",
        "print(\"As Boolean:\", bool_value)\n"
      ],
      "metadata": {
        "id": "QazR9jFPfPYF"
      },
      "execution_count": null,
      "outputs": []
    },
    {
      "cell_type": "code",
      "source": [
        "# Write code to demonstrate type casting with list elements\n",
        "numbers = [\"5\", \"10\", \"15\"]\n",
        "\n",
        "print(\"As strings:\", numbers)\n",
        "print(\"As integers:\", [int(numbers[0]), int(numbers[1]), int(numbers[2])])\n",
        "\n"
      ],
      "metadata": {
        "id": "RYqIPwOqgDtU"
      },
      "execution_count": null,
      "outputs": []
    },
    {
      "cell_type": "code",
      "source": [
        "#  Write a program that checks if a number is positive, negative, or zero\n",
        "num = int(input(\"Enter a number: \"))\n",
        "\n",
        "if num > 0:\n",
        "    print(\"The number is positive\")\n",
        "elif num < 0:\n",
        "    print(\"The number is negative\")\n",
        "else:\n",
        "    print(\"The number is zero\")\n"
      ],
      "metadata": {
        "id": "DMaUl1d6g_2E"
      },
      "execution_count": null,
      "outputs": []
    },
    {
      "cell_type": "code",
      "source": [
        "#  Write a for loop to print numbers from 1 to 10.\n",
        "for i in range(1, 11):\n",
        "    print(i)\n"
      ],
      "metadata": {
        "id": "EdS-8RaChLIq"
      },
      "execution_count": null,
      "outputs": []
    },
    {
      "cell_type": "code",
      "source": [
        "# Write a Python program to find the sum of all even numbers between 1 and 50\n",
        "sum = 0\n",
        "for i in range(1, 51):\n",
        "    if i % 2 == 0:\n",
        "        sum += i\n",
        "print(\"Sum of even numbers from 1 to 50 is:\", sum)\n"
      ],
      "metadata": {
        "id": "UXMFAv3OhWca"
      },
      "execution_count": null,
      "outputs": []
    },
    {
      "cell_type": "code",
      "source": [
        "#  Write a program to reverse a string using a while loop.\n",
        "text = input(\"Enter a string: \")\n",
        "reversed_text = \"\"\n",
        "\n",
        "i = len(text) - 1\n",
        "while i >= 0:\n",
        "    reversed_text += text[i]\n",
        "    i -= 1\n",
        "\n",
        "print(\"Reversed string:\", reversed_text)\n"
      ],
      "metadata": {
        "id": "O37MBuUKh4Yr"
      },
      "execution_count": null,
      "outputs": []
    },
    {
      "cell_type": "code",
      "source": [
        "#  Write a Python program to calculate the factorial of a number provided by the user using a while loop.\n",
        "num = int(input(\"Enter a number: \"))\n",
        "fact = 1\n",
        "i = 1\n",
        "\n",
        "while i <= num:\n",
        "    fact *= i\n",
        "    i += 1\n",
        "\n",
        "print(\"Factorial of\", num, \"is\", fact)\n"
      ],
      "metadata": {
        "id": "xvmtkWNGiUEC"
      },
      "execution_count": null,
      "outputs": []
    }
  ]
}