{
  "nbformat": 4,
  "nbformat_minor": 0,
  "metadata": {
    "colab": {
      "provenance": []
    },
    "kernelspec": {
      "name": "python3",
      "display_name": "Python 3"
    },
    "language_info": {
      "name": "python"
    }
  },
  "cells": [
    {
      "cell_type": "markdown",
      "source": [
        "Python OOPs Questions\n"
      ],
      "metadata": {
        "id": "E8bKkTJ6rkzo"
      }
    },
    {
      "cell_type": "markdown",
      "source": [
        "1. What is Object-Oriented Programming (OOP)?\n",
        "- Object-Oriented Programming (OOP) is a programming paradigm that organizes code into objects that combine data and behavior, making programs easier to manage, reuse, and scale."
      ],
      "metadata": {
        "id": "UO2XT5K5rnz3"
      }
    },
    {
      "cell_type": "markdown",
      "source": [
        "2. What is a class in OOP?\n",
        "- A class in OOP is a blueprint or template for creating objects that defines their attributes (data) and methods (behaviors)."
      ],
      "metadata": {
        "id": "Me4V70hlsgZn"
      }
    },
    {
      "cell_type": "markdown",
      "source": [
        "3. What is an object in OOP?\n",
        "- An object in OOP is an **instance of a class** that contains real data and can perform actions defined by the class methods.\n"
      ],
      "metadata": {
        "id": "8v-7cCq9sxb2"
      }
    },
    {
      "cell_type": "markdown",
      "source": [
        "4. What is the difference between abstraction and encapsulation?\n",
        "- Abstraction hides complex details and shows only essential features, while encapsulation hides data by restricting direct access to it within a class."
      ],
      "metadata": {
        "id": "_YCWpCPgs-Ue"
      }
    },
    {
      "cell_type": "markdown",
      "source": [
        "5.  What are dunder methods in Python?\n",
        "- Dunder methods (double underscore methods) are special built-in methods in Python used to define object behavior, like `__init__`, `__str__`, and `__add__`.\n"
      ],
      "metadata": {
        "id": "GF1MuFvrtOQW"
      }
    },
    {
      "cell_type": "markdown",
      "source": [
        "6.  Explain the concept of inheritance in OOP\n",
        "- Inheritance in OOP allows a class to **inherit properties and methods** from another class, promoting **code reuse and hierarchy**.\n"
      ],
      "metadata": {
        "id": "W0ShlxCptZqO"
      }
    },
    {
      "cell_type": "markdown",
      "source": [
        "7. What is polymorphism in OOP?\n",
        "- Polymorphism in OOP means one function or method can behave differently depending on the object or data type it is working with."
      ],
      "metadata": {
        "id": "1d4dtgc4tlkm"
      }
    },
    {
      "cell_type": "markdown",
      "source": [
        "8. How is encapsulation achieved in Python?\n",
        "- Encapsulation in Python is achieved by using private or protected variables (with _ or __ prefixes) and controlling access through getter and setter methods."
      ],
      "metadata": {
        "id": "1IAEJqrgt0GO"
      }
    },
    {
      "cell_type": "markdown",
      "source": [
        "9. What is a constructor in Python?\n",
        "- A constructor in Python is a special method `__init__()` that **automatically runs when an object is created** to initialize its attributes.\n"
      ],
      "metadata": {
        "id": "M9vKE4AFuFfG"
      }
    },
    {
      "cell_type": "markdown",
      "source": [
        "10. What are class and static methods in Python?\n",
        "- **Class methods** are methods that **operate on the class itself**, marked with `@classmethod` and take `cls` as the first parameter.\n",
        "* **Static methods** do not access the class or instance, marked with `@staticmethod` and behave like regular functions inside a class.\n"
      ],
      "metadata": {
        "id": "el-2fuRtuQx-"
      }
    },
    {
      "cell_type": "markdown",
      "source": [
        "11. What is method overloading in Python?\n",
        "- Method overloading in Python is the ability to **define multiple methods with the same name but different parameters**, though Python doesn’t support it directly and it’s usually handled with **default or variable arguments**.\n"
      ],
      "metadata": {
        "id": "JbmZ6ManuqTW"
      }
    },
    {
      "cell_type": "markdown",
      "source": [
        "12. What is method overriding in OOP?\n",
        "- Method overriding in OOP occurs when a **subclass provides its own version of a method** that is already defined in its parent class, replacing the original behavior.\n"
      ],
      "metadata": {
        "id": "pMOZ0KBBu1EH"
      }
    },
    {
      "cell_type": "markdown",
      "source": [
        "13. What is a property decorator in Python?\n",
        "- A property decorator `@property` in Python is used to **define getter, setter, and deleter methods** for class attributes, allowing controlled access like a regular attribute.\n"
      ],
      "metadata": {
        "id": "fZ3meK8pvFcW"
      }
    },
    {
      "cell_type": "markdown",
      "source": [
        "14.  Why is polymorphism important in OOP?\n",
        "- Polymorphism is important in OOP because it **allows the same interface or method to work with different objects**, making code more flexible, reusable, and easier to maintain.\n"
      ],
      "metadata": {
        "id": "SBTqH9r3vTvW"
      }
    },
    {
      "cell_type": "markdown",
      "source": [
        "15. What is an abstract class in Python?\n",
        "- An abstract class in Python is a **class that cannot be instantiated** and is meant to be **subclassed**, typically containing one or more abstract methods that must be implemented by its subclasses.\n"
      ],
      "metadata": {
        "id": "vGAVpa1MvW6V"
      }
    },
    {
      "cell_type": "markdown",
      "source": [
        "16. What are the advantages of OOP?\n",
        "- The advantages of OOP include:\n",
        "* **Modularity:** Code is organized into classes and objects.\n",
        "* **Reusability:** Inheritance allows code to be reused.\n",
        "* **Maintainability:** Easier to update and manage code.\n",
        "* **Flexibility:** Polymorphism allows the same interface to work with different objects.\n",
        "* **Data security:** Encapsulation protects data from unauthorized access.\n"
      ],
      "metadata": {
        "id": "_9RKpaipvyu1"
      }
    },
    {
      "cell_type": "markdown",
      "source": [
        "17. What is the difference between a class variable and an instance variable?\n",
        "- A **class variable** is shared by all instances of a class, while an **instance variable** is unique to each object of the class.\n"
      ],
      "metadata": {
        "id": "vU9r3ISxwDEU"
      }
    },
    {
      "cell_type": "markdown",
      "source": [
        "18.  What is multiple inheritance in Python?\n",
        "Multiple inheritance in Python is when a **class inherits from more than one parent class**, allowing it to access attributes and methods from all the parent classes.\n"
      ],
      "metadata": {
        "id": "wEaVl_UzwQVe"
      }
    },
    {
      "cell_type": "markdown",
      "source": [
        "19. Explain the purpose of ‘’__str__’ and ‘__repr__’ ‘ methods in Python.\n",
        "-  `__str__` returns a **user-friendly string representation** of an object, used by `print()`.\n",
        "* `__repr__` returns a **developer-friendly string** meant to **recreate the object**, used in debugging.\n"
      ],
      "metadata": {
        "id": "-wyXXOrQwfI0"
      }
    },
    {
      "cell_type": "markdown",
      "source": [
        "20.  What is the significance of the ‘super()’ function in Python?\n",
        "- The `super()` function in Python is used to **call methods from a parent class** in a subclass, allowing access to inherited behavior without explicitly naming the parent.\n"
      ],
      "metadata": {
        "id": "E4Pf3a3Cwutl"
      }
    },
    {
      "cell_type": "markdown",
      "source": [
        "21. What is the significance of the __del__ method in Python?\n",
        "- The `__del__` method in Python is a **destructor** that is called when an object is about to be destroyed, allowing cleanup of resources like memory or files.\n"
      ],
      "metadata": {
        "id": "eC3useMWxBWs"
      }
    },
    {
      "cell_type": "markdown",
      "source": [
        "22. What is the difference between @staticmethod and @classmethod in Python?\n",
        "- `@staticmethod` defines a method that **does not access the class or instance**, behaving like a regular function inside a class.\n",
        "* `@classmethod` defines a method that **operates on the class itself**, taking `cls` as the first parameter.\n"
      ],
      "metadata": {
        "id": "ug8vT4I8xQ3M"
      }
    },
    {
      "cell_type": "markdown",
      "source": [
        "23. How does polymorphism work in Python with inheritance?\n",
        "- In Python, polymorphism with inheritance works by allowing a **subclass to provide its own implementation of a method** defined in a parent class, so the same method call can behave differently depending on the object.\n"
      ],
      "metadata": {
        "id": "jzINL3Dqxgxt"
      }
    },
    {
      "cell_type": "markdown",
      "source": [
        "24.  What is method chaining in Python OOP?\n",
        "- Method chaining in Python OOP is a technique where **multiple methods are called sequentially on the same object** in a single statement, usually by having each method return `self`.\n"
      ],
      "metadata": {
        "id": "Ua2QibjJxstw"
      }
    },
    {
      "cell_type": "markdown",
      "source": [
        "25. What is the purpose of the __call__ method in Python?\n",
        "- The `__call__` method in Python allows an object to be **called like a function**, enabling custom behavior when the object is used with parentheses.\n"
      ],
      "metadata": {
        "id": "VHJ_vIjbx5mN"
      }
    },
    {
      "cell_type": "markdown",
      "source": [
        "**Practical Questions**"
      ],
      "metadata": {
        "id": "Xk8d-EjayLS9"
      }
    },
    {
      "cell_type": "markdown",
      "source": [
        "1.  Create a parent class Animal with a method speak() that prints a generic message. Create a child class Dog\n",
        "that overrides the speak() method to print \"Bark!\""
      ],
      "metadata": {
        "id": "J5yPB3sPyR0F"
      }
    },
    {
      "cell_type": "code",
      "source": [
        "# Parent class\n",
        "class Animal:\n",
        "    def speak(self):\n",
        "        print(\"Some generic animal sound\")\n",
        "\n",
        "# Child class\n",
        "class Dog(Animal):\n",
        "    def speak(self):\n",
        "        print(\"Bark!\")\n",
        "\n",
        "# Example usage\n",
        "animal = Animal()\n",
        "animal.speak()  # Some generic animal sound\n",
        "\n",
        "dog = Dog()\n",
        "dog.speak()     # Bark!\n"
      ],
      "metadata": {
        "colab": {
          "base_uri": "https://localhost:8080/"
        },
        "id": "1xwnVoEbB0wx",
        "outputId": "3e793caa-5b17-49ab-837e-bf70e663b248"
      },
      "execution_count": 1,
      "outputs": [
        {
          "output_type": "stream",
          "name": "stdout",
          "text": [
            "Some generic animal sound\n",
            "Bark!\n"
          ]
        }
      ]
    },
    {
      "cell_type": "markdown",
      "source": [
        "2.  Write a program to create an abstract class Shape with a method area(). Derive classes Circle and Rectangle\n",
        "from it and implement the area() method in both."
      ],
      "metadata": {
        "id": "TfcR-vPhyabU"
      }
    },
    {
      "cell_type": "code",
      "source": [
        "from abc import ABC, abstractmethod\n",
        "import math\n",
        "\n",
        "# Abstract class\n",
        "class Shape(ABC):\n",
        "    @abstractmethod\n",
        "    def area(self):\n",
        "        pass\n",
        "\n",
        "# Circle class\n",
        "class Circle(Shape):\n",
        "    def __init__(self, radius):\n",
        "        self.radius = radius\n",
        "\n",
        "    def area(self):\n",
        "        return math.pi * self.radius ** 2\n",
        "\n",
        "# Rectangle class\n",
        "class Rectangle(Shape):\n",
        "    def __init__(self, length, width):\n",
        "        self.length = length\n",
        "        self.width = width\n",
        "\n",
        "    def area(self):\n",
        "        return self.length * self.width\n",
        "\n",
        "# Example usage\n",
        "c = Circle(5)\n",
        "r = Rectangle(4, 6)\n",
        "\n",
        "print(\"Circle area:\", c.area())\n",
        "print(\"Rectangle area:\", r.area())\n"
      ],
      "metadata": {
        "colab": {
          "base_uri": "https://localhost:8080/"
        },
        "id": "GBTeezuhCbX0",
        "outputId": "58d8306d-33b5-4625-a697-5afc888bf210"
      },
      "execution_count": 2,
      "outputs": [
        {
          "output_type": "stream",
          "name": "stdout",
          "text": [
            "Circle area: 78.53981633974483\n",
            "Rectangle area: 24\n"
          ]
        }
      ]
    },
    {
      "cell_type": "markdown",
      "source": [
        "3.  Implement a multi-level inheritance scenario where a class Vehicle has an attribute type. Derive a class Car\n",
        "and further derive a class ElectricCar that adds a battery attribute."
      ],
      "metadata": {
        "id": "4Pw5Bvl4ygEU"
      }
    },
    {
      "cell_type": "code",
      "source": [
        "# Base class\n",
        "class Vehicle:\n",
        "    def __init__(self, type):\n",
        "        self.type = type\n",
        "\n",
        "# Derived class\n",
        "class Car(Vehicle):\n",
        "    def __init__(self, type, brand):\n",
        "        super().__init__(type)\n",
        "        self.brand = brand\n",
        "\n",
        "# Further derived class\n",
        "class ElectricCar(Car):\n",
        "    def __init__(self, type, brand, battery):\n",
        "        super().__init__(type, brand)\n",
        "        self.battery = battery\n",
        "\n",
        "# Example usage\n",
        "ecar = ElectricCar(\"Car\", \"Tesla\", \"100 kWh\")\n",
        "print(\"Type:\", ecar.type)\n",
        "print(\"Brand:\", ecar.brand)\n",
        "print(\"Battery:\", ecar.battery)\n"
      ],
      "metadata": {
        "colab": {
          "base_uri": "https://localhost:8080/"
        },
        "id": "EJ5mJcSeCuZ1",
        "outputId": "32576897-2d0f-456f-b40a-7bcedad309dc"
      },
      "execution_count": 3,
      "outputs": [
        {
          "output_type": "stream",
          "name": "stdout",
          "text": [
            "Type: Car\n",
            "Brand: Tesla\n",
            "Battery: 100 kWh\n"
          ]
        }
      ]
    },
    {
      "cell_type": "markdown",
      "source": [
        "4.  Demonstrate polymorphism by creating a base class Bird with a method fly(). Create two derived classes\n",
        "Sparrow and Penguin that override the fly() method."
      ],
      "metadata": {
        "id": "8jeG8Nq3yj8s"
      }
    },
    {
      "cell_type": "code",
      "source": [
        "# Base class\n",
        "class Bird:\n",
        "    def fly(self):\n",
        "        print(\"Some birds can fly\")\n",
        "\n",
        "# Derived classes\n",
        "class Sparrow(Bird):\n",
        "    def fly(self):\n",
        "        print(\"Sparrow can fly\")\n",
        "\n",
        "class Penguin(Bird):\n",
        "    def fly(self):\n",
        "        print(\"Penguin cannot fly\")\n",
        "\n",
        "# Example usage\n",
        "birds = [Sparrow(), Penguin()]\n",
        "\n",
        "for bird in birds:\n",
        "    bird.fly()\n"
      ],
      "metadata": {
        "colab": {
          "base_uri": "https://localhost:8080/"
        },
        "id": "U1kv5S0GDQic",
        "outputId": "880959ea-633d-4452-cc1f-8ff3bc5931d2"
      },
      "execution_count": 4,
      "outputs": [
        {
          "output_type": "stream",
          "name": "stdout",
          "text": [
            "Sparrow can fly\n",
            "Penguin cannot fly\n"
          ]
        }
      ]
    },
    {
      "cell_type": "markdown",
      "source": [
        "5.  Write a program to demonstrate encapsulation by creating a class BankAccount with private attributes\n",
        "balance and methods to deposit, withdraw, and check balance."
      ],
      "metadata": {
        "id": "3hN_lGGFyo7U"
      }
    },
    {
      "cell_type": "code",
      "source": [
        "class BankAccount:\n",
        "    def __init__(self, balance):\n",
        "        self.__balance = balance  # private attribute\n",
        "\n",
        "    def deposit(self, amount):\n",
        "        if amount > 0:\n",
        "            self.__balance += amount\n",
        "\n",
        "    def withdraw(self, amount):\n",
        "        if 0 < amount <= self.__balance:\n",
        "            self.__balance -= amount\n",
        "        else:\n",
        "            print(\"Insufficient balance or invalid amount\")\n",
        "\n",
        "    def check_balance(self):\n",
        "        return self.__balance\n",
        "\n",
        "# Example usage\n",
        "account = BankAccount(1000)\n",
        "account.deposit(500)\n",
        "account.withdraw(300)\n",
        "print(\"Current Balance:\", account.check_balance())\n"
      ],
      "metadata": {
        "colab": {
          "base_uri": "https://localhost:8080/"
        },
        "id": "O06df2kgDkrL",
        "outputId": "ac08e965-bb62-4666-8130-2f843afb20d3"
      },
      "execution_count": 5,
      "outputs": [
        {
          "output_type": "stream",
          "name": "stdout",
          "text": [
            "Current Balance: 1200\n"
          ]
        }
      ]
    },
    {
      "cell_type": "markdown",
      "source": [
        "6.  Demonstrate runtime polymorphism using a method play() in a base class Instrument. Derive classes Guitar\n",
        "and Piano that implement their own version of play()."
      ],
      "metadata": {
        "id": "34JOQe71ys18"
      }
    },
    {
      "cell_type": "code",
      "source": [
        "# Base class\n",
        "class Instrument:\n",
        "    def play(self):\n",
        "        print(\"Playing some instrument\")\n",
        "\n",
        "# Derived classes\n",
        "class Guitar(Instrument):\n",
        "    def play(self):\n",
        "        print(\"Playing the guitar\")\n",
        "\n",
        "class Piano(Instrument):\n",
        "    def play(self):\n",
        "        print(\"Playing the piano\")\n",
        "\n",
        "# Example usage\n",
        "instruments = [Guitar(), Piano()]\n",
        "\n",
        "for instrument in instruments:\n",
        "    instrument.play()\n"
      ],
      "metadata": {
        "colab": {
          "base_uri": "https://localhost:8080/"
        },
        "id": "L_mEZj-ZDzHc",
        "outputId": "9111ec2c-ae4f-40d4-fedb-4a88f2d97511"
      },
      "execution_count": 6,
      "outputs": [
        {
          "output_type": "stream",
          "name": "stdout",
          "text": [
            "Playing the guitar\n",
            "Playing the piano\n"
          ]
        }
      ]
    },
    {
      "cell_type": "markdown",
      "source": [
        "7. Create a class MathOperations with a class method add_numbers() to add two numbers and a static\n",
        "method subtract_numbers() to subtract two numbers."
      ],
      "metadata": {
        "id": "yXPBU9WvyxDU"
      }
    },
    {
      "cell_type": "code",
      "source": [
        "class MathOperations:\n",
        "    @classmethod\n",
        "    def add_numbers(cls, a, b):\n",
        "        return a + b\n",
        "\n",
        "    @staticmethod\n",
        "    def subtract_numbers(a, b):\n",
        "        return a - b\n",
        "\n",
        "# Example usage\n",
        "print(\"Addition:\", MathOperations.add_numbers(10, 5))\n",
        "print(\"Subtraction:\", MathOperations.subtract_numbers(10, 5))\n"
      ],
      "metadata": {
        "colab": {
          "base_uri": "https://localhost:8080/"
        },
        "id": "ioxUyiMzEC1l",
        "outputId": "991d1d13-c05f-4ebf-c0c9-4102cc196259"
      },
      "execution_count": 7,
      "outputs": [
        {
          "output_type": "stream",
          "name": "stdout",
          "text": [
            "Addition: 15\n",
            "Subtraction: 5\n"
          ]
        }
      ]
    },
    {
      "cell_type": "markdown",
      "source": [
        "8.  Implement a class Person with a class method to count the total number of persons created."
      ],
      "metadata": {
        "id": "J9ng9riRy0-k"
      }
    },
    {
      "cell_type": "code",
      "source": [
        "class Person:\n",
        "    count = 0  # class variable to keep track of persons\n",
        "\n",
        "    def __init__(self, name):\n",
        "        self.name = name\n",
        "        Person.count += 1\n",
        "\n",
        "    @classmethod\n",
        "    def total_persons(cls):\n",
        "        return cls.count\n",
        "\n",
        "# Example usage\n",
        "p1 = Person(\"Alice\")\n",
        "p2 = Person(\"Bob\")\n",
        "p3 = Person(\"Charlie\")\n",
        "\n",
        "print(\"Total persons created:\", Person.total_persons())\n"
      ],
      "metadata": {
        "colab": {
          "base_uri": "https://localhost:8080/"
        },
        "id": "H4oSAAwzEX2T",
        "outputId": "76f996de-1172-408a-f940-eebdd47139c1"
      },
      "execution_count": 8,
      "outputs": [
        {
          "output_type": "stream",
          "name": "stdout",
          "text": [
            "Total persons created: 3\n"
          ]
        }
      ]
    },
    {
      "cell_type": "markdown",
      "source": [
        "9.  Write a class Fraction with attributes numerator and denominator. Override the str method to display the\n",
        "fraction as \"numerator/denominator\"."
      ],
      "metadata": {
        "id": "M4ptEtRYy4RF"
      }
    },
    {
      "cell_type": "code",
      "source": [
        "class Fraction:\n",
        "    def __init__(self, numerator, denominator):\n",
        "        self.numerator = numerator\n",
        "        self.denominator = denominator\n",
        "\n",
        "    def __str__(self):\n",
        "        return f\"{self.numerator}/{self.denominator}\"\n",
        "\n",
        "# Example usage\n",
        "f = Fraction(3, 4)\n",
        "print(f)\n"
      ],
      "metadata": {
        "colab": {
          "base_uri": "https://localhost:8080/"
        },
        "id": "x2Kj99kWEwab",
        "outputId": "8540c285-a60f-48c0-ecaa-303cf7dc518d"
      },
      "execution_count": 9,
      "outputs": [
        {
          "output_type": "stream",
          "name": "stdout",
          "text": [
            "3/4\n"
          ]
        }
      ]
    },
    {
      "cell_type": "markdown",
      "source": [
        "10.  Demonstrate operator overloading by creating a class Vector and overriding the add method to add two\n",
        "vectors."
      ],
      "metadata": {
        "id": "BXuko9p1y7k7"
      }
    },
    {
      "cell_type": "code",
      "source": [
        "class Vector:\n",
        "    def __init__(self, x, y):\n",
        "        self.x = x\n",
        "        self.y = y\n",
        "\n",
        "    # Overloading the + operator\n",
        "    def __add__(self, other):\n",
        "        return Vector(self.x + other.x, self.y + other.y)\n",
        "\n",
        "    def __str__(self):\n",
        "        return f\"({self.x}, {self.y})\"\n",
        "\n",
        "# Example usage\n",
        "v1 = Vector(2, 3)\n",
        "v2 = Vector(4, 5)\n",
        "v3 = v1 + v2\n",
        "print(\"Sum of vectors:\", v3)\n"
      ],
      "metadata": {
        "colab": {
          "base_uri": "https://localhost:8080/"
        },
        "id": "gRZ4HMo2FBzr",
        "outputId": "6a5c10b9-e4ae-40d4-9c3a-0ce56706dbb2"
      },
      "execution_count": 10,
      "outputs": [
        {
          "output_type": "stream",
          "name": "stdout",
          "text": [
            "Sum of vectors: (6, 8)\n"
          ]
        }
      ]
    },
    {
      "cell_type": "markdown",
      "source": [
        "11. Create a class Person with attributes name and age. Add a method greet() that prints \"Hello, my name is\n",
        "{name} and I am {age} years old\"."
      ],
      "metadata": {
        "id": "XdjZnIi4y-oM"
      }
    },
    {
      "cell_type": "code",
      "source": [
        "class Person:\n",
        "    def __init__(self, name, age):\n",
        "        self.name = name\n",
        "        self.age = age\n",
        "\n",
        "    def greet(self):\n",
        "        print(f\"Hello, my name is {self.name} and I am {self.age} years old\")\n",
        "\n",
        "# Example usage\n",
        "p = Person(\"Alice\", 25)\n",
        "p.greet()\n"
      ],
      "metadata": {
        "colab": {
          "base_uri": "https://localhost:8080/"
        },
        "id": "YuVzaVHeFQer",
        "outputId": "01574c25-5b83-40ec-cdde-5abc877c1eda"
      },
      "execution_count": 11,
      "outputs": [
        {
          "output_type": "stream",
          "name": "stdout",
          "text": [
            "Hello, my name is Alice and I am 25 years old\n"
          ]
        }
      ]
    },
    {
      "cell_type": "markdown",
      "source": [
        "12.  Implement a class Student with attributes name and grades. Create a method average_grade() to compute\n",
        "the average of the grades."
      ],
      "metadata": {
        "id": "Wgx9-LP9zLvl"
      }
    },
    {
      "cell_type": "code",
      "source": [
        "class Student:\n",
        "    def __init__(self, name, grades):\n",
        "        self.name = name\n",
        "        self.grades = grades  # list of numbers\n",
        "\n",
        "    def average_grade(self):\n",
        "        return sum(self.grades) / len(self.grades) if self.grades else 0\n",
        "\n",
        "# Example usage\n",
        "s = Student(\"Bob\", [80, 90, 85, 70])\n",
        "print(\"Average grade:\", s.average_grade())\n"
      ],
      "metadata": {
        "colab": {
          "base_uri": "https://localhost:8080/"
        },
        "id": "Wz5J35l4FeXE",
        "outputId": "58d16a34-3cd1-4673-cbe4-a4a2adc819c2"
      },
      "execution_count": 12,
      "outputs": [
        {
          "output_type": "stream",
          "name": "stdout",
          "text": [
            "Average grade: 81.25\n"
          ]
        }
      ]
    },
    {
      "cell_type": "markdown",
      "source": [
        "13. Create a class Rectangle with methods set_dimensions() to set the dimensions and area() to calculate the\n",
        "area."
      ],
      "metadata": {
        "id": "tvK6c-4fzQDk"
      }
    },
    {
      "cell_type": "code",
      "source": [
        "class Rectangle:\n",
        "    def set_dimensions(self, length, width):\n",
        "        self.length = length\n",
        "        self.width = width\n",
        "\n",
        "    def area(self):\n",
        "        return self.length * self.width\n",
        "\n",
        "# Example usage\n",
        "rect = Rectangle()\n",
        "rect.set_dimensions(5, 3)\n",
        "print(\"Area of rectangle:\", rect.area())\n"
      ],
      "metadata": {
        "colab": {
          "base_uri": "https://localhost:8080/"
        },
        "id": "YWMIrQ6XFus7",
        "outputId": "5719c8de-509e-4064-9d64-103e89f57c4c"
      },
      "execution_count": 13,
      "outputs": [
        {
          "output_type": "stream",
          "name": "stdout",
          "text": [
            "Area of rectangle: 15\n"
          ]
        }
      ]
    },
    {
      "cell_type": "markdown",
      "source": [
        "14.  Create a class Employee with a method calculate_salary() that computes the salary based on hours worked\n",
        "and hourly rate. Create a derived class Manager that adds a bonus to the salary"
      ],
      "metadata": {
        "id": "LIIc0l4XzUOs"
      }
    },
    {
      "cell_type": "code",
      "source": [
        "# Base class\n",
        "class Employee:\n",
        "    def __init__(self, name, hours_worked, hourly_rate):\n",
        "        self.name = name\n",
        "        self.hours_worked = hours_worked\n",
        "        self.hourly_rate = hourly_rate\n",
        "\n",
        "    def calculate_salary(self):\n",
        "        return self.hours_worked * self.hourly_rate\n",
        "\n",
        "# Derived class\n",
        "class Manager(Employee):\n",
        "    def __init__(self, name, hours_worked, hourly_rate, bonus):\n",
        "        super().__init__(name, hours_worked, hourly_rate)\n",
        "        self.bonus = bonus\n",
        "\n",
        "    def calculate_salary(self):\n",
        "        return super().calculate_salary() + self.bonus\n",
        "\n",
        "# Example usage\n",
        "e = Employee(\"Alice\", 40, 200)\n",
        "m = Manager(\"Bob\", 40, 200, 1000)\n",
        "\n",
        "print(\"Employee salary:\", e.calculate_salary())\n",
        "print(\"Manager salary:\", m.calculate_salary())\n"
      ],
      "metadata": {
        "colab": {
          "base_uri": "https://localhost:8080/"
        },
        "id": "P2w0yLRCGBMC",
        "outputId": "9164863e-5f50-4363-fc2d-36a6b8202223"
      },
      "execution_count": 14,
      "outputs": [
        {
          "output_type": "stream",
          "name": "stdout",
          "text": [
            "Employee salary: 8000\n",
            "Manager salary: 9000\n"
          ]
        }
      ]
    },
    {
      "cell_type": "markdown",
      "source": [
        "15.   Create a class Product with attributes name, price, and quantity. Implement a method total_price() that\n",
        "calculates the total price of the product.\n"
      ],
      "metadata": {
        "id": "OphQsUKSzZyk"
      }
    },
    {
      "cell_type": "code",
      "source": [
        "class Product:\n",
        "    def __init__(self, name, price, quantity):\n",
        "        self.name = name\n",
        "        self.price = price\n",
        "        self.quantity = quantity\n",
        "\n",
        "    def total_price(self):\n",
        "        return self.price * self.quantity\n",
        "\n",
        "# Example usage\n",
        "p = Product(\"Laptop\", 500, 3)\n",
        "print(\"Total price:\", p.total_price())\n"
      ],
      "metadata": {
        "colab": {
          "base_uri": "https://localhost:8080/"
        },
        "id": "c8rpqK6GGmga",
        "outputId": "d7d6e332-28f6-40d1-ef88-7cb5104d8d16"
      },
      "execution_count": 15,
      "outputs": [
        {
          "output_type": "stream",
          "name": "stdout",
          "text": [
            "Total price: 1500\n"
          ]
        }
      ]
    },
    {
      "cell_type": "markdown",
      "source": [
        "16. Create a class Animal with an abstract method sound(). Create two derived classes Cow and Sheep that\n",
        "implement the sound() method."
      ],
      "metadata": {
        "id": "bJqEe6g1zeGE"
      }
    },
    {
      "cell_type": "code",
      "source": [
        "from abc import ABC, abstractmethod\n",
        "\n",
        "# Abstract class\n",
        "class Animal(ABC):\n",
        "    @abstractmethod\n",
        "    def sound(self):\n",
        "        pass\n",
        "\n",
        "# Derived classes\n",
        "class Cow(Animal):\n",
        "    def sound(self):\n",
        "        print(\"Moo\")\n",
        "\n",
        "class Sheep(Animal):\n",
        "    def sound(self):\n",
        "        print(\"Baa\")\n",
        "\n",
        "# Example usage\n",
        "animals = [Cow(), Sheep()]\n",
        "for animal in animals:\n",
        "    animal.sound()\n"
      ],
      "metadata": {
        "colab": {
          "base_uri": "https://localhost:8080/"
        },
        "id": "3LkhxdpuG6LU",
        "outputId": "1b41f63a-8e73-441e-c2b7-44dc4bd46bab"
      },
      "execution_count": 16,
      "outputs": [
        {
          "output_type": "stream",
          "name": "stdout",
          "text": [
            "Moo\n",
            "Baa\n"
          ]
        }
      ]
    },
    {
      "cell_type": "markdown",
      "source": [
        "17. Create a class Book with attributes title, author, and year_published. Add a method get_book_info() that\n",
        "returns a formatted string with the book's details."
      ],
      "metadata": {
        "id": "L9-B5eFTzjNm"
      }
    },
    {
      "cell_type": "code",
      "source": [
        "class Book:\n",
        "    def __init__(self, title, author, year_published):\n",
        "        self.title = title\n",
        "        self.author = author\n",
        "        self.year_published = year_published\n",
        "\n",
        "    def get_book_info(self):\n",
        "        return f\"Title: {self.title}, Author: {self.author}, Year: {self.year_published}\"\n",
        "\n",
        "# Example usage\n",
        "b = Book(\"1984\", \"George Orwell\", 1949)\n",
        "print(b.get_book_info())\n"
      ],
      "metadata": {
        "colab": {
          "base_uri": "https://localhost:8080/"
        },
        "id": "hjfAk_7YHHvS",
        "outputId": "569f7160-a4d9-42b2-d0f1-782f212c20bb"
      },
      "execution_count": 17,
      "outputs": [
        {
          "output_type": "stream",
          "name": "stdout",
          "text": [
            "Title: 1984, Author: George Orwell, Year: 1949\n"
          ]
        }
      ]
    },
    {
      "cell_type": "markdown",
      "source": [
        "18.  Create a class House with attributes address and price. Create a derived class Mansion that adds an\n",
        "attribute number_of_rooms."
      ],
      "metadata": {
        "id": "2FKS5od3zmsj"
      }
    },
    {
      "cell_type": "code",
      "source": [
        "# Base class\n",
        "class House:\n",
        "    def __init__(self, address, price):\n",
        "        self.address = address\n",
        "        self.price = price\n",
        "\n",
        "# Derived class\n",
        "class Mansion(House):\n",
        "    def __init__(self, address, price, number_of_rooms):\n",
        "        super().__init__(address, price)\n",
        "        self.number_of_rooms = number_of_rooms\n",
        "\n",
        "# Example usage\n",
        "m = Mansion(\"123 Elm Street\", 500000, 10)\n",
        "print(\"Address:\", m.address)\n",
        "print(\"Price:\", m.price)\n",
        "print(\"Number of rooms:\", m.number_of_rooms)\n"
      ],
      "metadata": {
        "colab": {
          "base_uri": "https://localhost:8080/"
        },
        "id": "VBDrla4IHaG8",
        "outputId": "825bec47-1945-4604-f5c7-c568b0dafaef"
      },
      "execution_count": 18,
      "outputs": [
        {
          "output_type": "stream",
          "name": "stdout",
          "text": [
            "Address: 123 Elm Street\n",
            "Price: 500000\n",
            "Number of rooms: 10\n"
          ]
        }
      ]
    }
  ]
}